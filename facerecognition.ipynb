{
 "cells": [
  {
   "cell_type": "code",
   "execution_count": 1,
   "metadata": {},
   "outputs": [
    {
     "name": "stdout",
     "output_type": "stream",
     "text": [
      "Requirement already satisfied: dlib in c:\\users\\harsh shrivastava\\appdata\\local\\programs\\python\\python311\\lib\\site-packages (19.24.1)\n",
      "Note: you may need to restart the kernel to use updated packages.\n"
     ]
    }
   ],
   "source": [
    "pip install dlib"
   ]
  },
  {
   "cell_type": "code",
   "execution_count": 2,
   "metadata": {},
   "outputs": [
    {
     "name": "stdout",
     "output_type": "stream",
     "text": [
      "Requirement already satisfied: opencv-python in c:\\users\\harsh shrivastava\\appdata\\local\\programs\\python\\python311\\lib\\site-packages (4.9.0.80)\n",
      "Requirement already satisfied: numpy>=1.21.2 in c:\\users\\harsh shrivastava\\appdata\\local\\programs\\python\\python311\\lib\\site-packages (from opencv-python) (1.26.3)\n",
      "Note: you may need to restart the kernel to use updated packages.\n"
     ]
    }
   ],
   "source": [
    "pip install opencv-python"
   ]
  },
  {
   "cell_type": "code",
   "execution_count": 3,
   "metadata": {},
   "outputs": [],
   "source": [
    "import cv2\n",
    "import dlib"
   ]
  },
  {
   "cell_type": "code",
   "execution_count": null,
   "metadata": {},
   "outputs": [],
   "source": [
    "#capture the frames from my primary camera\n",
    "cap = cv2.VideoCapture(0)\n",
    "\n",
    "#face detector model\n",
    "face_detector = dlib.get_frontal_face_detector()\n",
    "\n",
    "#capture frames continuosly\n",
    "while True :\n",
    "\n",
    "    ret, frame = cap.read()\n",
    "    frame = cv2.flip(frame,1)\n",
    "\n",
    "    #RGB to Grayscale\n",
    "    gray = cv2.cvtColor(frame, cv2.COLOR_BGR2GRAY)\n",
    "    faces = face_detector(gray)\n",
    "\n",
    "    #iterate through all the faces and draw rectangle around each face and number it\n",
    "    i=0\n",
    "    for face in faces :\n",
    "        #find the co-ordinates\n",
    "        x, y = face.left(), face.top()\n",
    "        x1, y1 = face.right(), face.bottom()\n",
    "\n",
    "        #Draw the rectangle\n",
    "        cv2.rectangle(frame, (x,y),(x1,y1), (0,255,0), 2)\n",
    "\n",
    "        i+=1\n",
    "\n",
    "        cv2.putText(frame, \"Face Num \"+str(i), (x-10,y-10), cv2.FONT_HERSHEY_SIMPLEX, 0.7, (0,0,255), 2)\n",
    "    \n",
    "    cv2.imshow(\"frame\", frame)\n",
    "\n",
    "    #Code to come out of the infinite loop\n",
    "    if(cv2.waitKey(1) & 0xFF == ord(\"q\")):\n",
    "        break\n",
    "\n",
    "cap.release()\n",
    "cv2.destroyAllWindows()"
   ]
  }
 ],
 "metadata": {
  "kernelspec": {
   "display_name": "Python 3",
   "language": "python",
   "name": "python3"
  },
  "language_info": {
   "codemirror_mode": {
    "name": "ipython",
    "version": 3
   },
   "file_extension": ".py",
   "mimetype": "text/x-python",
   "name": "python",
   "nbconvert_exporter": "python",
   "pygments_lexer": "ipython3",
   "version": "3.11.3"
  }
 },
 "nbformat": 4,
 "nbformat_minor": 2
}
